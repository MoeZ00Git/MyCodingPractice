{
 "cells": [
  {
   "cell_type": "code",
   "execution_count": 1,
   "id": "a48e6060",
   "metadata": {},
   "outputs": [],
   "source": [
    "import numpy as np\n",
    "import pandas as pd\n",
    "import matplotlib.pyplot as plt"
   ]
  },
  {
   "cell_type": "markdown",
   "id": "f7ca1884",
   "metadata": {},
   "source": [
    "### Covariance\n",
    "\n",
    "Variance: the average square deviation from the mean. Covariance is similar. Let's say we have a data vector, $x^a$, which has $i$ points... so $x_i^a$ is the first element of the data vector, from the previous section we'd have that:\n",
    "\n",
    "$$ Var^{a,a} = \\frac{1}{N-1} \\sum_{i=1}^N (x_i^a - \\mu^a)(x_i^a - \\mu^a), $$\n",
    "\n",
    "Or\n",
    "\n",
    "$$ Var^{a,b} = \\frac{1}{N-1} \\sum_{i=1}^N (x_i^a - \\mu^a)(x_i^b - \\mu^b), $$\n",
    "\n",
    "The goal is to do this for each different vector you have to form a matrix. If we had only two vectors, our matrix is this:\n",
    "\n",
    "$$ Cov = \\begin{pmatrix} Var^{a,a} & Var^{a,b} \\\\ Var^{b,a} & Var^{b,b} \\\\ \\end{pmatrix} $$\n",
    "\n",
    "Notice how this is symmetric. $Var^{a,b} = Var^{b,a}$. And the diagonals are just the variance for each data vector. The off-diagonals are measure of the joint spread between the two. If the concept still isn't perfect, don't worry, the examples will clear everything up.\n",
    "\n",
    "We can calculate the covariance using either `np.cov` ([doco here](https://docs.scipy.org/doc/numpy/reference/generated/numpy.cov.html)) or `pd.DataFrame.cov` ([doco here](https://pandas.pydata.org/pandas-docs/stable/reference/api/pandas.DataFrame.cov.html))."
   ]
  },
  {
   "cell_type": "code",
   "execution_count": 4,
   "id": "930c1339",
   "metadata": {},
   "outputs": [],
   "source": [
    "# Contains 3 columns (sex, height, weight), we just want height and weight\n",
    "dataset = pd.read_csv(\"height_weight.csv\")[[\"height\", \"weight\"]]"
   ]
  },
  {
   "cell_type": "code",
   "execution_count": 5,
   "id": "ccca6433",
   "metadata": {},
   "outputs": [
    {
     "data": {
      "text/html": [
       "<div>\n",
       "<style scoped>\n",
       "    .dataframe tbody tr th:only-of-type {\n",
       "        vertical-align: middle;\n",
       "    }\n",
       "\n",
       "    .dataframe tbody tr th {\n",
       "        vertical-align: top;\n",
       "    }\n",
       "\n",
       "    .dataframe thead th {\n",
       "        text-align: right;\n",
       "    }\n",
       "</style>\n",
       "<table border=\"1\" class=\"dataframe\">\n",
       "  <thead>\n",
       "    <tr style=\"text-align: right;\">\n",
       "      <th></th>\n",
       "      <th>height</th>\n",
       "      <th>weight</th>\n",
       "    </tr>\n",
       "  </thead>\n",
       "  <tbody>\n",
       "    <tr>\n",
       "      <th>0</th>\n",
       "      <td>71.74</td>\n",
       "      <td>259.88</td>\n",
       "    </tr>\n",
       "    <tr>\n",
       "      <th>1</th>\n",
       "      <td>71.00</td>\n",
       "      <td>186.73</td>\n",
       "    </tr>\n",
       "    <tr>\n",
       "      <th>2</th>\n",
       "      <td>63.83</td>\n",
       "      <td>172.17</td>\n",
       "    </tr>\n",
       "    <tr>\n",
       "      <th>3</th>\n",
       "      <td>67.74</td>\n",
       "      <td>174.66</td>\n",
       "    </tr>\n",
       "    <tr>\n",
       "      <th>4</th>\n",
       "      <td>67.28</td>\n",
       "      <td>169.20</td>\n",
       "    </tr>\n",
       "  </tbody>\n",
       "</table>\n",
       "</div>"
      ],
      "text/plain": [
       "   height  weight\n",
       "0   71.74  259.88\n",
       "1   71.00  186.73\n",
       "2   63.83  172.17\n",
       "3   67.74  174.66\n",
       "4   67.28  169.20"
      ]
     },
     "execution_count": 5,
     "metadata": {},
     "output_type": "execute_result"
    }
   ],
   "source": [
    "dataset.head()"
   ]
  },
  {
   "cell_type": "code",
   "execution_count": 6,
   "id": "fe84ae75",
   "metadata": {},
   "outputs": [
    {
     "name": "stdout",
     "output_type": "stream",
     "text": [
      "[[17698.3298  10886.7211  10191.5438  ...  9768.2288   6992.2231\n",
      "   4852.1306 ]\n",
      " [10886.7211   6696.71645  6269.0941  ...  6008.7016   4301.10545\n",
      "   2984.6767 ]\n",
      " [10191.5438   6269.0941   5868.7778  ...  5625.0128   4026.4561\n",
      "   2794.0886 ]\n",
      " ...\n",
      " [ 9768.2288   6008.7016   5625.0128  ...  5391.3728   3859.2136\n",
      "   2678.0336 ]\n",
      " [ 6992.2231   4301.10545  4026.4561  ...  3859.2136   2762.47445\n",
      "   1916.9707 ]\n",
      " [ 4852.1306   2984.6767   2794.0886  ...  2678.0336   1916.9707\n",
      "   1330.2482 ]]\n"
     ]
    }
   ],
   "source": [
    "covariance = np.cov(dataset)\n",
    "print(covariance) # Note the resultant output is not a 2x2 matrix like our data...\n",
    "# This is because NumPy expects the rows to be the variables, with the columns being the observations\n",
    "# Our data is the opposite of that"
   ]
  },
  {
   "cell_type": "code",
   "execution_count": 7,
   "id": "ea036f55",
   "metadata": {},
   "outputs": [
    {
     "name": "stdout",
     "output_type": "stream",
     "text": [
      "[[  18.60200779   78.50218098]\n",
      " [  78.50218098 1512.91208783]]\n"
     ]
    }
   ],
   "source": [
    "# To fix this, use .T to transpose the data matrix or add the parameter \"rowvar=False\"\n",
    "covariance = np.cov(dataset.T)\n",
    "print(covariance)"
   ]
  },
  {
   "cell_type": "code",
   "execution_count": 8,
   "id": "0e975b11",
   "metadata": {},
   "outputs": [
    {
     "name": "stdout",
     "output_type": "stream",
     "text": [
      "           height       weight\n",
      "height  18.602008    78.502181\n",
      "weight  78.502181  1512.912088\n"
     ]
    }
   ],
   "source": [
    "# with Pandas (easier)\n",
    "covariance = dataset.cov()\n",
    "print(covariance)"
   ]
  },
  {
   "cell_type": "markdown",
   "id": "009859f8",
   "metadata": {},
   "source": [
    "### Correlation\n",
    "\n",
    "Correlation and covariance are easily linked. If we take that 2D covariance matrix from above, which is written in terms of variance, we can rewrite it in terms of standard deviation $\\sigma$, as $Var = \\sigma^2$.\n",
    "\n",
    "$$ Cov = \\begin{pmatrix} \\sigma^2_{a,a} & \\sigma^2_{a,b} \\\\ \\sigma^2_{b,a} & \\sigma^2_{b,b} \\\\ \\end{pmatrix} $$\n",
    "\n",
    "The correlation matrix:\n",
    "\n",
    "$$ Corr = \\begin{pmatrix} \\sigma^2_{a,a}/\\sigma^2_{a,a} & \\sigma^2_{a,b}/(\\sigma_{a,a}\\sigma_{b,b}) \\\\ \\sigma^2_{b,a}/(\\sigma_{a,a}\\sigma_{b,b}) & \\sigma^2_{b,b}/\\sigma^2_{b,b} \\\\ \\end{pmatrix} $$\n",
    "\n",
    "Which is the same as\n",
    "\n",
    "$$ Corr = \\begin{pmatrix} 1 & \\rho_{a,b} \\\\ \\rho_{b,a} & 1 \\\\ \\end{pmatrix}, $$\n",
    "\n",
    "where $\\rho_{a,b} = \\sigma^2_{a,b}/(\\sigma_{a,a}\\sigma_{b,b})$. Another way to think about this is that \n",
    "\n",
    "$$ Corr_{a,b} = \\frac{Cov_{a,b}}{\\sigma_a \\sigma_b} $$\n",
    "\n",
    "It is the joint variability normalised by the variability of each independent variable.\n",
    "\n",
    "We can calculate a correlation matrix using `np.corrcoef` ([doco here](https://docs.scipy.org/doc/numpy/reference/generated/numpy.corrcoef.html)) or `pd.DataFrame.corr` ([doco here](https://pandas.pydata.org/pandas-docs/stable/reference/api/pandas.DataFrame.corr.html))"
   ]
  },
  {
   "cell_type": "code",
   "execution_count": 12,
   "id": "cb0806d2",
   "metadata": {},
   "outputs": [
    {
     "name": "stdout",
     "output_type": "stream",
     "text": [
      "[[1.         0.46794517]\n",
      " [0.46794517 1.        ]]\n"
     ]
    }
   ],
   "source": [
    "corr = np.corrcoef(dataset.T)\n",
    "print(corr)"
   ]
  },
  {
   "cell_type": "code",
   "execution_count": 14,
   "id": "e7295a9c",
   "metadata": {},
   "outputs": [
    {
     "name": "stdout",
     "output_type": "stream",
     "text": [
      "          height    weight\n",
      "height  1.000000  0.467945\n",
      "weight  0.467945  1.000000\n"
     ]
    }
   ],
   "source": [
    "corr = dataset.corr()\n",
    "print(corr)"
   ]
  },
  {
   "cell_type": "code",
   "execution_count": null,
   "id": "dfe27b5d",
   "metadata": {},
   "outputs": [],
   "source": []
  }
 ],
 "metadata": {
  "kernelspec": {
   "display_name": "Python 3",
   "language": "python",
   "name": "python3"
  },
  "language_info": {
   "codemirror_mode": {
    "name": "ipython",
    "version": 3
   },
   "file_extension": ".py",
   "mimetype": "text/x-python",
   "name": "python",
   "nbconvert_exporter": "python",
   "pygments_lexer": "ipython3",
   "version": "3.8.8"
  }
 },
 "nbformat": 4,
 "nbformat_minor": 5
}
